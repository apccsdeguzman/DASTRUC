{
  "nbformat": 4,
  "nbformat_minor": 0,
  "metadata": {
    "colab": {
      "provenance": [],
      "authorship_tag": "ABX9TyPEQXRXoSpwvmQ5++x+E+TK",
      "include_colab_link": true
    },
    "kernelspec": {
      "name": "python3",
      "display_name": "Python 3"
    },
    "language_info": {
      "name": "python"
    }
  },
  "cells": [
    {
      "cell_type": "markdown",
      "metadata": {
        "id": "view-in-github",
        "colab_type": "text"
      },
      "source": [
        "<a href=\"https://colab.research.google.com/github/apccsdeguzman/DASTRUC/blob/main/tree_nodes.ipynb\" target=\"_parent\"><img src=\"https://colab.research.google.com/assets/colab-badge.svg\" alt=\"Open In Colab\"/></a>"
      ]
    },
    {
      "cell_type": "code",
      "source": [
        "from tree import *"
      ],
      "metadata": {
        "id": "2lUuTHnq5ztR"
      },
      "execution_count": null,
      "outputs": []
    },
    {
      "cell_type": "code",
      "source": [
        "A_node = TreeNode(34)\n",
        "B_node = TreeNode(65)\n",
        "C_node = TreeNode(17)\n",
        "D_node = TreeNode(100)\n",
        "E_node = TreeNode(8)"
      ],
      "metadata": {
        "id": "irvvPKuE6EFl"
      },
      "execution_count": null,
      "outputs": []
    },
    {
      "cell_type": "code",
      "source": [
        "print(A_node.data)"
      ],
      "metadata": {
        "colab": {
          "base_uri": "https://localhost:8080/"
        },
        "id": "LP2-TcyY6cLu",
        "outputId": "e5c69b72-b181-443b-9d18-e056b299ced8"
      },
      "execution_count": null,
      "outputs": [
        {
          "output_type": "stream",
          "name": "stdout",
          "text": [
            "34\n"
          ]
        }
      ]
    },
    {
      "cell_type": "code",
      "source": [
        "print(f'Left child of A_node:   {A_node.left}')\n",
        "print(f'Right child of A_node:  {A_node.right}')"
      ],
      "metadata": {
        "colab": {
          "base_uri": "https://localhost:8080/"
        },
        "id": "2QDu25ko6f8g",
        "outputId": "dee9ff74-0832-48dc-f589-4ab9c7b4ec16"
      },
      "execution_count": null,
      "outputs": [
        {
          "output_type": "stream",
          "name": "stdout",
          "text": [
            "Left child of A_node:   None\n",
            "Right child of A_node:  None\n"
          ]
        }
      ]
    },
    {
      "cell_type": "code",
      "source": [
        "# let C be the left child of A\n",
        "A_node.left = C_node\n",
        "# let B be the right child of A\n",
        "A_node.right = B_node"
      ],
      "metadata": {
        "id": "PfIhRBNe7eic"
      },
      "execution_count": 13,
      "outputs": []
    },
    {
      "cell_type": "code",
      "source": [
        "print(f'Value of left child of A: {A_node.left.data}')"
      ],
      "metadata": {
        "colab": {
          "base_uri": "https://localhost:8080/"
        },
        "id": "uWzbHbd68Q3v",
        "outputId": "ef3c1f4e-87ef-4007-e1f4-66781fce611d"
      },
      "execution_count": 14,
      "outputs": [
        {
          "output_type": "stream",
          "name": "stdout",
          "text": [
            "Value of left child of A: 17\n"
          ]
        }
      ]
    },
    {
      "cell_type": "code",
      "source": [
        "print(f'Value of right child of A: {A_node.right.data}')"
      ],
      "metadata": {
        "colab": {
          "base_uri": "https://localhost:8080/"
        },
        "id": "R5lhcjJw9oa1",
        "outputId": "2f095c95-9bc3-426d-8b04-52c9ac39f80a"
      },
      "execution_count": 18,
      "outputs": [
        {
          "output_type": "stream",
          "name": "stdout",
          "text": [
            "Value of right child of A: 65\n"
          ]
        }
      ]
    },
    {
      "cell_type": "code",
      "source": [
        "Feb20Tree = Tree(A_node, \"Feb 20\")"
      ],
      "metadata": {
        "id": "pqLBP6kJ-biL"
      },
      "execution_count": 27,
      "outputs": []
    },
    {
      "cell_type": "code",
      "source": [
        "print(f'Height of Feb20Tree: {Feb20Tree.height()}')"
      ],
      "metadata": {
        "colab": {
          "base_uri": "https://localhost:8080/"
        },
        "id": "lA0q9ycs-6DG",
        "outputId": "afef9988-9e07-48de-edd1-17d4fbd2076f"
      },
      "execution_count": 28,
      "outputs": [
        {
          "output_type": "stream",
          "name": "stdout",
          "text": [
            "Height of Feb20Tree: 1\n"
          ]
        }
      ]
    },
    {
      "cell_type": "code",
      "source": [
        "print(f'Root value: {Feb20Tree.root.data}')"
      ],
      "metadata": {
        "colab": {
          "base_uri": "https://localhost:8080/"
        },
        "id": "By7Y9Mub_Mt_",
        "outputId": "366a01ee-1d3f-4f3a-e894-7484711bc057"
      },
      "execution_count": 29,
      "outputs": [
        {
          "output_type": "stream",
          "name": "stdout",
          "text": [
            "Root value: 34\n"
          ]
        }
      ]
    },
    {
      "cell_type": "code",
      "source": [
        "Feb20Tree.root.right.data"
      ],
      "metadata": {
        "colab": {
          "base_uri": "https://localhost:8080/"
        },
        "id": "8N0JvtZPBckr",
        "outputId": "a8f05045-1414-4141-e6fe-ddb60343fb80"
      },
      "execution_count": 32,
      "outputs": [
        {
          "output_type": "execute_result",
          "data": {
            "text/plain": [
              "65"
            ]
          },
          "metadata": {},
          "execution_count": 32
        }
      ]
    },
    {
      "cell_type": "code",
      "source": [
        "Feb20Tree.root.left.data"
      ],
      "metadata": {
        "colab": {
          "base_uri": "https://localhost:8080/"
        },
        "id": "YpPPi2bqBkeT",
        "outputId": "895a240a-5e6d-4d55-bbbf-8786f6c6d09f"
      },
      "execution_count": 33,
      "outputs": [
        {
          "output_type": "execute_result",
          "data": {
            "text/plain": [
              "17"
            ]
          },
          "metadata": {},
          "execution_count": 33
        }
      ]
    },
    {
      "cell_type": "code",
      "source": [
        "Feb20Tree.root.search(65)"
      ],
      "metadata": {
        "colab": {
          "base_uri": "https://localhost:8080/"
        },
        "id": "13iQmHv_BokL",
        "outputId": "fdff1718-c1cd-41ef-c558-b88a1c0d94b5"
      },
      "execution_count": 34,
      "outputs": [
        {
          "output_type": "stream",
          "name": "stdout",
          "text": [
            "Found it!\n"
          ]
        },
        {
          "output_type": "execute_result",
          "data": {
            "text/plain": [
              "<tree.TreeNode at 0x7fab157c5b10>"
            ]
          },
          "metadata": {},
          "execution_count": 34
        }
      ]
    },
    {
      "cell_type": "code",
      "source": [
        "Feb20Tree.root.search(100)"
      ],
      "metadata": {
        "colab": {
          "base_uri": "https://localhost:8080/"
        },
        "id": "d3ca3B69By3k",
        "outputId": "239bce2e-7532-469c-cb2d-3392332f7241"
      },
      "execution_count": 35,
      "outputs": [
        {
          "output_type": "stream",
          "name": "stdout",
          "text": [
            "value is not in the tree\n"
          ]
        }
      ]
    },
    {
      "cell_type": "code",
      "source": [
        "from graph1 import *"
      ],
      "metadata": {
        "id": "OQOVp4i2Dxbk"
      },
      "execution_count": 36,
      "outputs": []
    }
  ]
}