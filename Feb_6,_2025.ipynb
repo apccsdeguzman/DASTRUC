{
  "nbformat": 4,
  "nbformat_minor": 0,
  "metadata": {
    "colab": {
      "provenance": [],
      "authorship_tag": "ABX9TyPHWSAZ1+yN+XtG7ska0cbz",
      "include_colab_link": true
    },
    "kernelspec": {
      "name": "python3",
      "display_name": "Python 3"
    },
    "language_info": {
      "name": "python"
    }
  },
  "cells": [
    {
      "cell_type": "markdown",
      "metadata": {
        "id": "view-in-github",
        "colab_type": "text"
      },
      "source": [
        "<a href=\"https://colab.research.google.com/github/apccsdeguzman/DASTRUC/blob/main/Feb_6%2C_2025.ipynb\" target=\"_parent\"><img src=\"https://colab.research.google.com/assets/colab-badge.svg\" alt=\"Open In Colab\"/></a>"
      ]
    },
    {
      "cell_type": "code",
      "execution_count": 1,
      "metadata": {
        "id": "lJ20NFol3Tab"
      },
      "outputs": [],
      "source": [
        "from node import Node"
      ]
    },
    {
      "cell_type": "code",
      "source": [
        "mon = Node(\"Monday\")\n",
        "tue = Node(\"Tuesday\")\n",
        "wed = Node(\"Wednesday\")\n",
        "thur = Node(\"Thursday\")\n",
        "fri = Node(\"Friday\")"
      ],
      "metadata": {
        "id": "uxf-iRdU5-lS"
      },
      "execution_count": 3,
      "outputs": []
    },
    {
      "cell_type": "code",
      "source": [
        "print(mon.data)"
      ],
      "metadata": {
        "colab": {
          "base_uri": "https://localhost:8080/"
        },
        "id": "AKoymhM96cn4",
        "outputId": "ea516e21-e24f-413f-e875-2d635ee24048"
      },
      "execution_count": 5,
      "outputs": [
        {
          "output_type": "stream",
          "name": "stdout",
          "text": [
            "Monday\n"
          ]
        }
      ]
    },
    {
      "cell_type": "code",
      "source": [
        "print(tue.link)"
      ],
      "metadata": {
        "colab": {
          "base_uri": "https://localhost:8080/"
        },
        "id": "DSEk3ftR6pvT",
        "outputId": "a16fb804-c3e6-4f17-9bf7-cf6dc0f8f09d"
      },
      "execution_count": 6,
      "outputs": [
        {
          "output_type": "stream",
          "name": "stdout",
          "text": [
            "None\n"
          ]
        }
      ]
    },
    {
      "cell_type": "code",
      "source": [
        "head = mon"
      ],
      "metadata": {
        "id": "mR731SmJ6us7"
      },
      "execution_count": 9,
      "outputs": []
    },
    {
      "cell_type": "code",
      "source": [
        "print(head.data)"
      ],
      "metadata": {
        "colab": {
          "base_uri": "https://localhost:8080/"
        },
        "id": "KGzyO4sq6y0U",
        "outputId": "b5d8e032-7e5b-49ca-cedc-d623c3747720"
      },
      "execution_count": 10,
      "outputs": [
        {
          "output_type": "stream",
          "name": "stdout",
          "text": [
            "Monday\n"
          ]
        }
      ]
    },
    {
      "cell_type": "code",
      "source": [
        "mon.link = tue\n",
        "tue.link = wed"
      ],
      "metadata": {
        "id": "ZJFmG92P7HKz"
      },
      "execution_count": 11,
      "outputs": []
    },
    {
      "cell_type": "code",
      "source": [
        "print(mon.link.data)"
      ],
      "metadata": {
        "colab": {
          "base_uri": "https://localhost:8080/"
        },
        "id": "ih-QG1O-8dgm",
        "outputId": "4a324102-7a44-418c-e63d-f07384c33257"
      },
      "execution_count": 12,
      "outputs": [
        {
          "output_type": "stream",
          "name": "stdout",
          "text": [
            "Tuesday\n"
          ]
        }
      ]
    },
    {
      "cell_type": "code",
      "source": [
        "print(mon.link.link.data)"
      ],
      "metadata": {
        "colab": {
          "base_uri": "https://localhost:8080/"
        },
        "id": "AzUitIpV8kFK",
        "outputId": "79b37b99-f0a9-4f72-a8fa-2855d77d7172"
      },
      "execution_count": 13,
      "outputs": [
        {
          "output_type": "stream",
          "name": "stdout",
          "text": [
            "Wednesday\n"
          ]
        }
      ]
    },
    {
      "cell_type": "code",
      "source": [
        "mon.link = tue\n",
        "tue.link = wed\n",
        "wed.link = thur\n",
        "thur.link = fri"
      ],
      "metadata": {
        "id": "lJx1BsrE82cW"
      },
      "execution_count": 17,
      "outputs": []
    },
    {
      "cell_type": "code",
      "source": [
        "def traverse(head):\n",
        "    current = head\n",
        "    while current != None:\n",
        "        print(current.data)\n",
        "        current = current.link"
      ],
      "metadata": {
        "id": "E3fIopWm9CpF"
      },
      "execution_count": 21,
      "outputs": []
    },
    {
      "cell_type": "code",
      "source": [
        "traverse(head)"
      ],
      "metadata": {
        "colab": {
          "base_uri": "https://localhost:8080/"
        },
        "id": "qIBy1DN39WDG",
        "outputId": "35c7f376-19dd-473b-bb86-e097caee5993"
      },
      "execution_count": 22,
      "outputs": [
        {
          "output_type": "stream",
          "name": "stdout",
          "text": [
            "Monday\n",
            "Tuesday\n",
            "Wednesday\n",
            "Thursday\n",
            "Friday\n"
          ]
        }
      ]
    },
    {
      "cell_type": "code",
      "source": [
        "thur = Node(\"Thursday\")\n",
        "wed.link = thur\n",
        "traverse(head)"
      ],
      "metadata": {
        "colab": {
          "base_uri": "https://localhost:8080/"
        },
        "id": "wFmlgBHx_TmO",
        "outputId": "6b1fa02e-394c-4b5a-c451-6d3fc918284f"
      },
      "execution_count": 23,
      "outputs": [
        {
          "output_type": "stream",
          "name": "stdout",
          "text": [
            "Monday\n",
            "Tuesday\n",
            "Wednesday\n",
            "Thursday\n"
          ]
        }
      ]
    },
    {
      "cell_type": "code",
      "source": [],
      "metadata": {
        "id": "qkZ8U-p2ErB3"
      },
      "execution_count": null,
      "outputs": []
    },
    {
      "source": [
        "# Create a Singly Linked List\n",
        "class SinglyLinkedList:\n",
        "    def __init__(self):\n",
        "        self.head = None\n",
        "    def append(self, data):\n",
        "        new_node = Node(data)\n",
        "        if not self.head:\n",
        "            self.head = new_node\n",
        "            return\n",
        "        last_node = self.head\n",
        "        while last_node.link:\n",
        "            last_node = last_node.link\n",
        "        last_node.link = new_node\n",
        "    def traverse(self):\n",
        "        current = self.head\n",
        "        while current:\n",
        "            print(current.data, end = \" \")\n",
        "            current = current.link\n",
        "    def delete_node(self, data):\n",
        "\n",
        "\n",
        ""
      ],
      "cell_type": "code",
      "metadata": {
        "id": "tCj67STECyBq"
      },
      "execution_count": 46,
      "outputs": []
    },
    {
      "cell_type": "code",
      "source": [
        "sll = SinglyLinkedList()\n",
        "sll.append (1)\n",
        "sll.append (2)\n",
        "sll.append (3)\n",
        "sll.traverse ()"
      ],
      "metadata": {
        "colab": {
          "base_uri": "https://localhost:8080/"
        },
        "id": "9XE2PmNABvA7",
        "outputId": "68127faa-31f1-4970-dca4-65c7b1c59f4a"
      },
      "execution_count": 47,
      "outputs": [
        {
          "output_type": "stream",
          "name": "stdout",
          "text": [
            "1 2 3 "
          ]
        }
      ]
    },
    {
      "cell_type": "code",
      "source": [
        "class Node:\n",
        "    def __init__(self, data):\n",
        "        self.data = data\n",
        "        self.link = None\n",
        "\n",
        "class SinglyLinkedList:\n",
        "    def __init__(self):\n",
        "        self.head = None\n",
        "\n",
        "    def append(self, data):\n",
        "        new_node = Node(data)\n",
        "        if not self.head:\n",
        "            self.head = new_node\n",
        "            return\n",
        "        last_node = self.head\n",
        "        while last_node.link:\n",
        "            last_node = last_node.link\n",
        "        last_node.link = new_node\n",
        "\n",
        "    def traverse(self):\n",
        "        current = self.head\n",
        "        while current:\n",
        "            print(current.data, end=\" \")\n",
        "            current = current.link\n",
        "\n",
        "    def delete_node(self, key):\n",
        "        # If the list is empty\n",
        "        if not self.head:\n",
        "            print(\"List is empty\")\n",
        "            return\n",
        "\n",
        "        # If the node to be deleted is the head\n",
        "        if self.head.data == key:\n",
        "            self.head = self.head.link  # Move the head to the next node\n",
        "            return\n",
        "\n",
        "        # Search for the node to delete\n",
        "        current = self.head\n",
        "        while current.link:\n",
        "            if current.link.data == key:\n",
        "                current.link = current.link.link  # Bypass the node to delete\n",
        "                return\n",
        "            current = current.link\n",
        "\n",
        "        print(f\"Node with data {key} not found.\")\n"
      ],
      "metadata": {
        "id": "Rs9V_vLpEvTl"
      },
      "execution_count": 48,
      "outputs": []
    },
    {
      "cell_type": "code",
      "source": [
        "# Create a new linked list and append some data\n",
        "ll = SinglyLinkedList()\n",
        "ll.append(10)\n",
        "ll.append(20)\n",
        "ll.append(30)\n",
        "ll.append(40)\n",
        "\n",
        "print(\"Original List:\")\n",
        "ll.traverse()\n",
        "\n",
        "# Delete a node with value 30\n",
        "ll.delete_node(30)\n",
        "print(\"\\nList after deleting 30:\")\n",
        "ll.traverse()\n",
        "\n",
        "# Delete a node with value 10 (head node)\n",
        "ll.delete_node(10)\n",
        "print(\"\\nList after deleting 10:\")\n",
        "ll.traverse()\n",
        "\n",
        "# Try deleting a node that doesn't exist\n",
        "ll.delete_node(100)"
      ],
      "metadata": {
        "colab": {
          "base_uri": "https://localhost:8080/"
        },
        "id": "L5GEtV08GuMg",
        "outputId": "a8c63793-997a-4b4b-cb47-86e7767c1b87"
      },
      "execution_count": 49,
      "outputs": [
        {
          "output_type": "stream",
          "name": "stdout",
          "text": [
            "Original List:\n",
            "10 20 30 40 \n",
            "List after deleting 30:\n",
            "10 20 40 \n",
            "List after deleting 10:\n",
            "20 40 Node with data 100 not found.\n"
          ]
        }
      ]
    },
    {
      "cell_type": "code",
      "source": [
        "class Node:\n",
        "    def __init__(self, data):\n",
        "        self.data = data\n",
        "        self.link = None\n",
        "\n",
        "class SinglyLinkedList:\n",
        "    def __init__(self):\n",
        "        self.head = None\n",
        "\n",
        "    def append(self, data):\n",
        "        new_node = Node(data)\n",
        "        if not self.head:\n",
        "            self.head = new_node\n",
        "            return\n",
        "        last_node = self.head\n",
        "        while last_node.link:\n",
        "            last_node = last_node.link\n",
        "        last_node.link = new_node\n",
        "\n",
        "    def traverse(self):\n",
        "        current = self.head\n",
        "        while current:\n",
        "            print(current.data, end=\" \")\n",
        "            current = current.link\n",
        "\n",
        "    def delete_node(self, key):\n",
        "        # If the list is empty\n",
        "        if not self.head:\n",
        "            print(\"List is empty\")\n",
        "            return\n",
        "\n",
        "        # If the node to be deleted is the head\n",
        "        if self.head.data == key:\n",
        "            self.head = self.head.link  # Move the head to the next node\n",
        "            return\n",
        "\n",
        "        # Search for the node to delete\n",
        "        current = self.head\n",
        "        while current.link:\n",
        "            if current.link.data == key:\n",
        "                current.link = current.link.link  # Bypass the node to delete\n",
        "                return\n",
        "            current = current.link\n",
        "\n",
        "        print(f\"Node with data {key} not found.\")\n",
        "\n",
        "    def length(self):\n",
        "        # Count the number of nodes\n",
        "        count = 0\n",
        "        current = self.head\n",
        "        while current:\n",
        "            count += 1\n",
        "            current = current.link\n",
        "        return count\n"
      ],
      "metadata": {
        "id": "M92twghrKKVy"
      },
      "execution_count": 50,
      "outputs": []
    },
    {
      "cell_type": "code",
      "source": [
        "# Create a new linked list and append some data\n",
        "ll = SinglyLinkedList()\n",
        "ll.append(10)\n",
        "ll.append(20)\n",
        "ll.append(30)\n",
        "ll.append(40)\n",
        "\n",
        "print(\"Original List:\")\n",
        "ll.traverse()\n",
        "\n",
        "# Get the length of the linked list\n",
        "print(\"\\nLength of the list:\", ll.length())\n",
        "\n",
        "# Delete a node and check the length again\n",
        "ll.delete_node(20)\n",
        "print(\"\\nLength after deleting 20:\", ll.length())\n",
        "\n",
        "# Delete another node and check the length again\n",
        "ll.delete_node(10)\n",
        "print(\"\\nLength after deleting 10:\", ll.length())\n"
      ],
      "metadata": {
        "colab": {
          "base_uri": "https://localhost:8080/"
        },
        "id": "9VxenKdzKORs",
        "outputId": "a7352296-58e5-4d4b-d180-16a6341b965e"
      },
      "execution_count": 51,
      "outputs": [
        {
          "output_type": "stream",
          "name": "stdout",
          "text": [
            "Original List:\n",
            "10 20 30 40 \n",
            "Length of the list: 4\n",
            "\n",
            "Length after deleting 20: 3\n",
            "\n",
            "Length after deleting 10: 2\n"
          ]
        }
      ]
    },
    {
      "cell_type": "code",
      "source": [
        "class Stack:"
      ],
      "metadata": {
        "id": "kSQRSMKAUK7U"
      },
      "execution_count": null,
      "outputs": []
    },
    {
      "cell_type": "code",
      "source": [
        "from SimpleStack import Stack"
      ],
      "metadata": {
        "id": "OvkNmN0DUN6s"
      },
      "execution_count": 54,
      "outputs": []
    }
  ]
}