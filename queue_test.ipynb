{
  "nbformat": 4,
  "nbformat_minor": 0,
  "metadata": {
    "colab": {
      "provenance": [],
      "authorship_tag": "ABX9TyP6V0dyF5MiNVZ6k2TgnhhJ",
      "include_colab_link": true
    },
    "kernelspec": {
      "name": "python3",
      "display_name": "Python 3"
    },
    "language_info": {
      "name": "python"
    }
  },
  "cells": [
    {
      "cell_type": "markdown",
      "metadata": {
        "id": "view-in-github",
        "colab_type": "text"
      },
      "source": [
        "<a href=\"https://colab.research.google.com/github/apccsdeguzman/DASTRUC/blob/main/queue_test.ipynb\" target=\"_parent\"><img src=\"https://colab.research.google.com/assets/colab-badge.svg\" alt=\"Open In Colab\"/></a>"
      ]
    },
    {
      "cell_type": "code",
      "execution_count": null,
      "metadata": {
        "id": "zArMRxc8z6sY"
      },
      "outputs": [],
      "source": [
        "# factorial of n\n",
        "# n! = number of ways of arranging n objects in a row\n",
        "# example: The number of ways in arranging 5 disctinct\n",
        "# objects in a row is 5!\n",
        "# n! = n * (n-1) * (n-2) * (n-3) * ... * 3 * 2 * 1\n",
        "# 5! = 5 * 4 * 3 * 2 * 1 = 120\n",
        "# 5! = 5 * 4\n",
        "# n! = n* (n-1)! -- general case\n",
        "# base cases\n",
        "# n = 0 -> 0! = 1\n",
        "# n = 1 -> 0! = 1\n",
        "\n"
      ]
    },
    {
      "cell_type": "code",
      "source": [
        "# iterative solution\n",
        "def factorial_iterative(n):\n",
        "    product = 1\n",
        "    for i in range(n,1,-1):\n",
        "        product = product * i\n",
        "    return product"
      ],
      "metadata": {
        "id": "Nft0C4xS7ltP"
      },
      "execution_count": null,
      "outputs": []
    },
    {
      "cell_type": "code",
      "source": [
        "factorial_iterative(5)"
      ],
      "metadata": {
        "colab": {
          "base_uri": "https://localhost:8080/"
        },
        "id": "1LK0QUfr8fPD",
        "outputId": "9172c33b-aad8-4304-8fc1-496607729bf7"
      },
      "execution_count": null,
      "outputs": [
        {
          "output_type": "execute_result",
          "data": {
            "text/plain": [
              "120"
            ]
          },
          "metadata": {},
          "execution_count": 3
        }
      ]
    },
    {
      "cell_type": "code",
      "source": [
        "factorial_iterative(10)"
      ],
      "metadata": {
        "colab": {
          "base_uri": "https://localhost:8080/"
        },
        "id": "lbKyVwEp8mk6",
        "outputId": "1d781a74-be20-4929-b8b1-e954733adef4"
      },
      "execution_count": null,
      "outputs": [
        {
          "output_type": "execute_result",
          "data": {
            "text/plain": [
              "3628800"
            ]
          },
          "metadata": {},
          "execution_count": 4
        }
      ]
    },
    {
      "cell_type": "code",
      "source": [
        "factorial_iterative(14)"
      ],
      "metadata": {
        "colab": {
          "base_uri": "https://localhost:8080/"
        },
        "id": "aHSJckp18rZK",
        "outputId": "bfe041c0-bb66-4ebd-c976-26ab9da471eb"
      },
      "execution_count": null,
      "outputs": [
        {
          "output_type": "execute_result",
          "data": {
            "text/plain": [
              "87178291200"
            ]
          },
          "metadata": {},
          "execution_count": 12
        }
      ]
    },
    {
      "cell_type": "code",
      "source": [
        "#Cha\n",
        "# recursive solution\n",
        "def factorial_recursive(n):\n",
        "    if n == 1 or n == 0:\n",
        "        return 1\n",
        "    else:\n",
        "        return n * factorial_recursive(n-1)"
      ],
      "metadata": {
        "id": "WqA1cqmT9v2Y"
      },
      "execution_count": null,
      "outputs": []
    },
    {
      "cell_type": "code",
      "source": [
        "factorial_recursive(14)"
      ],
      "metadata": {
        "colab": {
          "base_uri": "https://localhost:8080/"
        },
        "id": "lmDd85Tr-kQf",
        "outputId": "e9aec9bc-000f-4dc8-8acf-c78030dbebcf"
      },
      "execution_count": null,
      "outputs": [
        {
          "output_type": "execute_result",
          "data": {
            "text/plain": [
              "87178291200"
            ]
          },
          "metadata": {},
          "execution_count": 10
        }
      ]
    },
    {
      "cell_type": "code",
      "source": [
        " # fibonacci sequence\n",
        " # [0, 1, 2, 3, 5, 8, ...]\n",
        " # fib(n)=fib(n-1)+ fib(n-2)\n",
        " # fib(0) = 0, fib(1) = 1\n",
        " def fib(n):\n",
        "  print(f' Calculating fib({n})', end='\\n')\n",
        "  if n == 0:\n",
        "      return 0\n",
        "  elif n == 1:\n",
        "      return 1\n",
        "  else:\n",
        "      return fib(n-1) + fib(n-2)"
      ],
      "metadata": {
        "id": "Pd09XaGEL2Sz"
      },
      "execution_count": null,
      "outputs": []
    },
    {
      "cell_type": "code",
      "source": [
        "fib(5)"
      ],
      "metadata": {
        "colab": {
          "base_uri": "https://localhost:8080/"
        },
        "id": "01bk6lObRPFX",
        "outputId": "536a710d-4fb6-44f4-b0e9-37013d71b3ae"
      },
      "execution_count": null,
      "outputs": [
        {
          "output_type": "stream",
          "name": "stdout",
          "text": [
            " Calculating fib(5)\n",
            " Calculating fib(4)\n",
            " Calculating fib(3)\n",
            " Calculating fib(2)\n",
            " Calculating fib(1)\n",
            " Calculating fib(0)\n",
            " Calculating fib(1)\n",
            " Calculating fib(2)\n",
            " Calculating fib(1)\n",
            " Calculating fib(0)\n",
            " Calculating fib(3)\n",
            " Calculating fib(2)\n",
            " Calculating fib(1)\n",
            " Calculating fib(0)\n",
            " Calculating fib(1)\n"
          ]
        },
        {
          "output_type": "execute_result",
          "data": {
            "text/plain": [
              "5"
            ]
          },
          "metadata": {},
          "execution_count": 21
        }
      ]
    },
    {
      "cell_type": "code",
      "source": [
        "# to make the solution more efficient,\n",
        "# apply memoization (save answers and lookup later)\n",
        "def fib2(n, lookup):\n",
        "  if lookup[n] == None:\n",
        "    if n == 0:\n",
        "      lookup[n] = 0\n",
        "    elif n == 1:\n",
        "      lookup[n] = 1\n",
        "    else:\n",
        "      lookup[n] = fib2(n-1, lookup) + fib2(n-2, lookup)\n",
        "  return lookup[n]"
      ],
      "metadata": {
        "id": "nzuqRehMO_Fd"
      },
      "execution_count": null,
      "outputs": []
    },
    {
      "cell_type": "code",
      "source": [
        "SIZE = 101\n",
        "lookup = [None]*SIZE\n",
        "fib2(100, lookup)"
      ],
      "metadata": {
        "colab": {
          "base_uri": "https://localhost:8080/"
        },
        "id": "cmxbgLwXRVWQ",
        "outputId": "87454fa5-9a0b-496a-baeb-7b8a341578aa"
      },
      "execution_count": null,
      "outputs": [
        {
          "output_type": "execute_result",
          "data": {
            "text/plain": [
              "354224848179261915075"
            ]
          },
          "metadata": {},
          "execution_count": 25
        }
      ]
    },
    {
      "cell_type": "code",
      "source": [
        "from tree import *"
      ],
      "metadata": {
        "id": "QpgFJYcwcffo"
      },
      "execution_count": null,
      "outputs": []
    },
    {
      "cell_type": "code",
      "source": [
        "node1 = TreeNode(50)"
      ],
      "metadata": {
        "id": "9TFpQfZKewKN"
      },
      "execution_count": null,
      "outputs": []
    },
    {
      "cell_type": "code",
      "source": [
        "print(node1.data)"
      ],
      "metadata": {
        "colab": {
          "base_uri": "https://localhost:8080/"
        },
        "id": "SrRYrVwSe2E8",
        "outputId": "1dc633a7-89a3-4c58-bdfe-464a6b8247e7"
      },
      "execution_count": null,
      "outputs": [
        {
          "output_type": "stream",
          "name": "stdout",
          "text": [
            "50\n"
          ]
        }
      ]
    },
    {
      "cell_type": "code",
      "source": [
        "print(f'Left child:{node1.left}')\n",
        "print(f'Right child:{node1.right}')"
      ],
      "metadata": {
        "colab": {
          "base_uri": "https://localhost:8080/"
        },
        "id": "cu483cuQe5wn",
        "outputId": "85b336e4-2156-4f15-d786-b2462b7608b6"
      },
      "execution_count": null,
      "outputs": [
        {
          "output_type": "stream",
          "name": "stdout",
          "text": [
            "Left child:None\n",
            "Right child:None\n"
          ]
        }
      ]
    },
    {
      "cell_type": "code",
      "source": [
        "# create two more TreeNodes with values 25 and 100\n",
        "node2 = TreeNode(25)\n",
        "node3 = TreeNode(100)"
      ],
      "metadata": {
        "id": "l8VMVampfG8C"
      },
      "execution_count": null,
      "outputs": []
    },
    {
      "cell_type": "code",
      "source": [
        "node1.left = node2\n",
        "node1.right = node3"
      ],
      "metadata": {
        "id": "Ii-Yd2jXfv5U"
      },
      "execution_count": null,
      "outputs": []
    },
    {
      "source": [
        "from tree import *\n",
        "\n",
        "# Define node1\n",
        "node1 = TreeNode(50)\n",
        "\n",
        "# Define node2 and node3\n",
        "node2 = TreeNode(25)\n",
        "node3 = TreeNode(100)\n",
        "\n",
        "# Assign node2 and node3 to node1's left and right\n",
        "node1.left = node2\n",
        "node1.right = node3\n",
        "\n",
        "# Create the Tree object with node1 as the root\n",
        "sampleTree = Tree(node1, \"sample\")\n",
        "\n",
        "# Print the data, ensuring sampleTree.root.left and sampleTree.root.right are not None\n",
        "print(f'Root: {sampleTree.root.data}')\n",
        "\n",
        "# Check if left child exists before accessing its data\n",
        "if sampleTree.root.left:\n",
        "    print(f'Left child data: {sampleTree.root.left.data}')\n",
        "else:\n",
        "    print(f'Left child is None')\n",
        "\n",
        "# Check if right child exists before accessing its data\n",
        "if sampleTree.root.right:\n",
        "    print(f'Right child data: {sampleTree.root.right.data}')\n",
        "else:\n",
        "    print(f'Right child is None')"
      ],
      "cell_type": "code",
      "metadata": {
        "colab": {
          "base_uri": "https://localhost:8080/"
        },
        "id": "9uHh4g7OhHH_",
        "outputId": "b5f084c5-9c1f-4454-b786-9ab45b1e7989"
      },
      "execution_count": null,
      "outputs": [
        {
          "output_type": "stream",
          "name": "stdout",
          "text": [
            "Root: 50\n",
            "Left child data: 25\n",
            "Right child data: 100\n"
          ]
        }
      ]
    },
    {
      "cell_type": "markdown",
      "source": [],
      "metadata": {
        "id": "inOLdMI5h7aS"
      }
    },
    {
      "cell_type": "markdown",
      "source": [],
      "metadata": {
        "id": "Jd4RKb7Gh7w5"
      }
    },
    {
      "cell_type": "code",
      "source": [
        "sampleTree = Tree(node1, \"sample\")"
      ],
      "metadata": {
        "id": "Uy0yVlYhgmYw"
      },
      "execution_count": null,
      "outputs": []
    },
    {
      "source": [
        "from tree import *\n",
        "\n",
        "# Define node1\n",
        "node1 = TreeNode(50)\n",
        "\n",
        "# Define node2 and node3\n",
        "node2 = TreeNode(25)\n",
        "node3 = TreeNode(100)\n",
        "\n",
        "# Assign node2 and node3 to node1's left and right\n",
        "node1.left = node2\n",
        "node1.right = node3\n",
        "\n",
        "# Create the Tree object with node1 as the root\n",
        "sampleTree = Tree(node1, \"sample\")\n",
        "\n",
        "# Print the data, ensuring sampleTree.root.left and sampleTree.root.right are not None\n",
        "print(f'Root: {sampleTree.root.data}')\n",
        "\n",
        "# Check if left child exists before accessing its data\n",
        "if sampleTree.root.left:  # Check if left child is not None\n",
        "    print(f'Left child data: {sampleTree.root.left.data}')\n",
        "else:\n",
        "    print(f'Left child is None')\n",
        "\n",
        "# Check if right child exists before accessing its data\n",
        "if sampleTree.root.right:  # Check if right child is not None\n",
        "    print(f'Right child data: {sampleTree.root.right.data}')\n",
        "else:\n",
        "    print(f'Right child is None')"
      ],
      "cell_type": "code",
      "metadata": {
        "colab": {
          "base_uri": "https://localhost:8080/"
        },
        "id": "aH-YXI2ahVI8",
        "outputId": "f2fdbe1a-8f41-4299-f2e5-fcae3e36c954"
      },
      "execution_count": null,
      "outputs": [
        {
          "output_type": "stream",
          "name": "stdout",
          "text": [
            "Root: 50\n",
            "Left child data: 25\n",
            "Right child data: 100\n"
          ]
        }
      ]
    }
  ]
}