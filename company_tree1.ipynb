{
  "nbformat": 4,
  "nbformat_minor": 0,
  "metadata": {
    "colab": {
      "provenance": [],
      "authorship_tag": "ABX9TyPFzp3T/LS8tBTH6oiiYWng",
      "include_colab_link": true
    },
    "kernelspec": {
      "name": "python3",
      "display_name": "Python 3"
    },
    "language_info": {
      "name": "python"
    }
  },
  "cells": [
    {
      "cell_type": "markdown",
      "metadata": {
        "id": "view-in-github",
        "colab_type": "text"
      },
      "source": [
        "<a href=\"https://colab.research.google.com/github/apccsdeguzman/DASTRUC/blob/main/company_tree1.ipynb\" target=\"_parent\"><img src=\"https://colab.research.google.com/assets/colab-badge.svg\" alt=\"Open In Colab\"/></a>"
      ]
    },
    {
      "cell_type": "code",
      "execution_count": null,
      "metadata": {
        "id": "0GQ25c3QZ3W3"
      },
      "outputs": [],
      "source": [
        "class EmployeeNode:\n",
        "    def _init_(self, name, position):\n",
        "        self.name = name\n",
        "        self.position = position\n",
        "        self.subordinates = []\n",
        "\n",
        "    def add_subordinate(self, subordinate_node):\n",
        "        self.subordinates.append(subordinate_node)\n",
        "\n",
        "    def display_hierarchy(self, level=0):\n",
        "        print(\"  \" * level + f\"{self.position}: {self.name}\")\n",
        "        for subordinate in self.subordinates:\n",
        "            subordinate.display_hierarchy(level + 1)"
      ]
    },
    {
      "cell_type": "code",
      "source": [
        "import matplotlib.pyplot as plt\n",
        "import networkx as nx"
      ],
      "metadata": {
        "id": "zSaJ_JqXa09D"
      },
      "execution_count": null,
      "outputs": []
    },
    {
      "cell_type": "code",
      "source": [
        "class EmployeeNode:\n",
        "    def __init__(self, name, position):\n",
        "        self.name = name\n",
        "        self.position = position\n",
        "        self.subordinates = []\n",
        "\n",
        "    def add_subordinate(self, subordinate_node):\n",
        "        self.subordinates.append(subordinate_node)\n",
        "\n",
        "    def display_hierarchy(self, level=0):\n",
        "        print(\"  \" * level + f\"{self.position}: {self.name}\")\n",
        "        for subordinate in self.subordinates:\n",
        "            subordinate.display_hierarchy(level + 1)\n",
        "\n",
        "\n",
        "class Tree:\n",
        "    def __init__(self, root):\n",
        "        self.root = root\n",
        "\n",
        "    def add_subordinate(self, supervisor_name, subordinate_node):\n",
        "        supervisor = self.find_node(self.root, supervisor_name)\n",
        "        if supervisor:\n",
        "            supervisor.add_subordinate(subordinate_node)\n",
        "        else:\n",
        "            print(f\"Supervisor {supervisor_name} not found.\")\n",
        "\n",
        "    def find_node(self, current_node, name):\n",
        "        if current_node.name == name:\n",
        "            return current_node\n",
        "        for subordinate in current_node.subordinates:\n",
        "            found_node = self.find_node(subordinate, name)\n",
        "            if found_node:\n",
        "                return found_node\n",
        "        return None\n",
        "\n",
        "    def display_hierarchy(self):\n",
        "        self.root.display_hierarchy()\n",
        "\n",
        "    def build_graph(self, G=None):\n",
        "        if G is None:\n",
        "            G = nx.DiGraph()\n",
        "        self._add_edges(self.root, G)\n",
        "        return G\n",
        "\n",
        "    def _add_edges(self, node, G):\n",
        "        for subordinate in node.subordinates:\n",
        "            G.add_edge(f\"{node.position}: {node.name}\", f\"{subordinate.position}: {subordinate.name}\")\n",
        "            self._add_edges(subordinate, G)\n",
        "\n",
        "    def search_employee(self, name):\n",
        "        return self.find_node(self.root, name)\n",
        "\n"
      ],
      "metadata": {
        "id": "UpN2FGwpfgQy"
      },
      "execution_count": null,
      "outputs": []
    },
    {
      "cell_type": "code",
      "source": [
        "ceo = EmployeeNode('Alice', 'CEO')"
      ],
      "metadata": {
        "id": "T-0t-Ie9eMdS"
      },
      "execution_count": null,
      "outputs": []
    },
    {
      "cell_type": "code",
      "source": [
        "print(f'Name: {ceo.name}')\n",
        "print(f'Position: {ceo.position}')"
      ],
      "metadata": {
        "colab": {
          "base_uri": "https://localhost:8080/"
        },
        "id": "TvlxcGFIfj6P",
        "outputId": "28302402-05ff-4d6d-d78e-2b8876c7bf24"
      },
      "execution_count": null,
      "outputs": [
        {
          "output_type": "stream",
          "name": "stdout",
          "text": [
            "Name: Alice\n",
            "Position: CEO\n"
          ]
        }
      ]
    },
    {
      "cell_type": "code",
      "source": [
        "#create the tree\n",
        "companyTree = Tree(ceo)"
      ],
      "metadata": {
        "id": "eyioTli4fsJE"
      },
      "execution_count": null,
      "outputs": []
    },
    {
      "cell_type": "code",
      "source": [
        "companyTree.add_subordinate('Alice', EmployeeNode('Bob', 'CTO'))\n",
        "companyTree.add_subordinate('Alice', EmployeeNode('Charlie', 'CFO'))\n",
        "companyTree.add_subordinate('Bob', EmployeeNode('David', 'Project Manager'))\n",
        "companyTree.add_subordinate('Charlie', EmployeeNode('Eden', 'Finance Manager'))\n",
        "companyTree.add_subordinate('David', EmployeeNode('Francis', 'Developer'))\n",
        "companyTree.add_subordinate('David', EmployeeNode('Grace', 'Developer'))\n",
        "companyTree.add_subordinate('Eden', EmployeeNode('Homer', 'Accountant'))\n",
        "companyTree.add_subordinate('Alice', EmployeeNode('Eve', 'COO'))\n",
        "companyTree.add_subordinate('Eve', EmployeeNode('Cha', 'HR Manager'))\n",
        "companyTree.add_subordinate('Cha', EmployeeNode('Allen', 'HR Specialist1'))\n",
        "companyTree.add_subordinate('Cha', EmployeeNode('Echo', 'HR Specialist2'))"
      ],
      "metadata": {
        "id": "4YdWCYiirFMZ"
      },
      "execution_count": null,
      "outputs": []
    }
  ]
}